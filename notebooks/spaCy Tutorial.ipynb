{
 "cells": [
  {
   "cell_type": "markdown",
   "metadata": {},
   "source": [
    "# spaCy Tutorial"
   ]
  },
  {
   "cell_type": "markdown",
   "metadata": {},
   "source": [
    "**(C) 2018 by [Damir Cavar](http://damir.cavar.me/)**"
   ]
  },
  {
   "cell_type": "markdown",
   "metadata": {},
   "source": [
    "**Version:** 1.1, February 2018"
   ]
  },
  {
   "cell_type": "markdown",
   "metadata": {},
   "source": [
    "This is a tutorial related to the L665 course on Machine Learning for NLP focusing on Deep Learning, Fall 2018 at Indiana University."
   ]
  },
  {
   "cell_type": "markdown",
   "metadata": {},
   "source": [
    "## Introduction to spaCy"
   ]
  },
  {
   "cell_type": "markdown",
   "metadata": {},
   "source": [
    "Follow the instructions on the [spaCy homepage](https://spacy.io/usage/) about installation of the module and language models. Your local spaCy module is correctly installed, if the following command is successfull:"
   ]
  },
  {
   "cell_type": "code",
   "execution_count": null,
   "metadata": {},
   "outputs": [],
   "source": [
    "import spacy"
   ]
  },
  {
   "cell_type": "markdown",
   "metadata": {},
   "source": [
    "We can load the English NLP pipeline in the following way:"
   ]
  },
  {
   "cell_type": "code",
   "execution_count": null,
   "metadata": {},
   "outputs": [],
   "source": [
    "nlp = spacy.load('en')"
   ]
  },
  {
   "cell_type": "markdown",
   "metadata": {},
   "source": [
    "### Tokenization"
   ]
  },
  {
   "cell_type": "code",
   "execution_count": null,
   "metadata": {},
   "outputs": [],
   "source": [
    "doc = nlp(u'John was wondering, if Peter knew that Dr. Smith bought a new car for her older son.')\n",
    "for token in doc:\n",
    "    print(token.text)"
   ]
  },
  {
   "cell_type": "markdown",
   "metadata": {},
   "source": [
    "### Part-of-Speech Tagging"
   ]
  },
  {
   "cell_type": "markdown",
   "metadata": {},
   "source": [
    "We can tokenize and part of speech tag the individual tokens using the following code:"
   ]
  },
  {
   "cell_type": "code",
   "execution_count": null,
   "metadata": {},
   "outputs": [],
   "source": [
    "doc = nlp(u'John said yesterday that Mary bought a new car for her older son.')\n",
    "\n",
    "for token in doc:\n",
    "    print(token.text, token.lemma_, token.pos_, token.tag_, token.dep_,\n",
    "          token.shape_, token.is_alpha, token.is_stop)"
   ]
  },
  {
   "cell_type": "markdown",
   "metadata": {},
   "source": [
    "The above output contains for every token in a line the token itself, the lemma, the Part-of-Speech tag, the dependency label, the orthographic shape (upper and lower case characters as X or x respectively), the boolean for the token being an alphanumeric string, and the boolean for it being a *stopword*."
   ]
  },
  {
   "cell_type": "markdown",
   "metadata": {},
   "source": [
    "### Dependency Parse"
   ]
  },
  {
   "cell_type": "markdown",
   "metadata": {},
   "source": [
    "Using the same approach as above for PoS-tags, we can print the Dependency Parse relations:"
   ]
  },
  {
   "cell_type": "code",
   "execution_count": null,
   "metadata": {},
   "outputs": [],
   "source": [
    "for token in doc:\n",
    "    print(token.text, token.dep_, token.head.text, token.head.pos_,\n",
    "          [child for child in token.children])"
   ]
  },
  {
   "cell_type": "markdown",
   "metadata": {},
   "source": [
    "As specified in the code, each line represents one token. The token is printed in the first column, followed by the dependency relation to it from the token in the third column, followed by its main category type."
   ]
  },
  {
   "cell_type": "markdown",
   "metadata": {},
   "source": [
    "### Named Entity Recognition"
   ]
  },
  {
   "cell_type": "markdown",
   "metadata": {},
   "source": [
    "Similarly to PoS-tags and Dependency Parse Relations, we can print out Named Entity labels:"
   ]
  },
  {
   "cell_type": "code",
   "execution_count": null,
   "metadata": {},
   "outputs": [],
   "source": [
    "for ent in doc.ents:\n",
    "    print(ent.text, ent.start_char, ent.end_char, ent.label_)"
   ]
  },
  {
   "cell_type": "markdown",
   "metadata": {},
   "source": [
    "We can extend the input with some more entities:"
   ]
  },
  {
   "cell_type": "code",
   "execution_count": null,
   "metadata": {},
   "outputs": [],
   "source": [
    "doc = nlp(u'John Smith said that Apple Inc. will buy Google in May 2018.')"
   ]
  },
  {
   "cell_type": "markdown",
   "metadata": {},
   "source": [
    "The corresponding NE-labels are:"
   ]
  },
  {
   "cell_type": "code",
   "execution_count": null,
   "metadata": {},
   "outputs": [],
   "source": [
    "for ent in doc.ents:\n",
    "    print(ent.text, ent.start_char, ent.end_char, ent.label_)"
   ]
  },
  {
   "cell_type": "markdown",
   "metadata": {},
   "source": [
    "### Pattern Matching in spaCy"
   ]
  },
  {
   "cell_type": "code",
   "execution_count": null,
   "metadata": {},
   "outputs": [],
   "source": [
    "from spacy.matcher import Matcher\n",
    "\n",
    "matcher = Matcher(nlp.vocab)\n",
    "pattern = [{'LOWER': 'hello'}, {'IS_PUNCT': True}, {'LOWER': 'world'}]\n",
    "matcher.add('HelloWorld', None, pattern)\n",
    "\n",
    "doc = nlp(u'Hello, world! Hello world!')\n",
    "matches = matcher(doc)\n",
    "print(matches)"
   ]
  },
  {
   "cell_type": "markdown",
   "metadata": {},
   "source": [
    "### spaCy is Missing"
   ]
  },
  {
   "cell_type": "markdown",
   "metadata": {},
   "source": [
    "From the linguistic standpoint, when looking at the analytical output of the NLP pipeline in spaCy, there are some important components missing:"
   ]
  },
  {
   "cell_type": "markdown",
   "metadata": {},
   "source": [
    "- Clause boundary detection\n",
    "- Constituent structure trees (scope relations over constituents and phrases)\n",
    "- Anaphora resolution\n",
    "- Coreference analysis\n",
    "- Temporal reference resolution\n",
    "- ..."
   ]
  },
  {
   "cell_type": "markdown",
   "metadata": {},
   "source": [
    "#### Clause Boundary Detection"
   ]
  },
  {
   "cell_type": "markdown",
   "metadata": {},
   "source": [
    "Complex sentences consist of clauses. For precise processing of semantic properties of natural language utterances we need to segment the sentences into clauses. The following sentence:"
   ]
  },
  {
   "cell_type": "markdown",
   "metadata": {},
   "source": [
    "*The man said that the woman claimed that the child broke the toy.*"
   ]
  },
  {
   "cell_type": "markdown",
   "metadata": {},
   "source": [
    "can be broken into the following clauses:"
   ]
  },
  {
   "cell_type": "markdown",
   "metadata": {},
   "source": [
    "- Matrix clause: [ *the man said* ]\n",
    "- Embedded clause: [ *that the woman claimed* ]\n",
    "- Embedded clause: [ *that the child broke the toy* ]"
   ]
  },
  {
   "cell_type": "markdown",
   "metadata": {},
   "source": [
    "These clauses do not form an ordered list or flat sequence, they in fact are hierarchically organized. The matrix clause verb selects as its complement an embedded finite clause with the complementizer *that*. The embedded predicate *claimed* selects the same kind of clausal complement. We express this hierarchical relation in form of embedding in tree representations:"
   ]
  },
  {
   "cell_type": "markdown",
   "metadata": {},
   "source": [
    "[ *the man said* [ *that the woman claimed* [ *that the child broke the toy* ] ] ]"
   ]
  },
  {
   "cell_type": "markdown",
   "metadata": {},
   "source": [
    "Or using a graphical representation in form of a tree:"
   ]
  },
  {
   "cell_type": "markdown",
   "metadata": {},
   "source": [
    "<img src=\"Embedded_Clauses_1.png\", width=70%, height=70%>"
   ]
  },
  {
   "cell_type": "markdown",
   "metadata": {},
   "source": [
    "The hierarchical relation of sub-clauses is relevant when it comes to semantics. The clause *John sold his car* can be interpreted as an assertion that describes an event with *John* as the agent, and *the car* as the object of a *selling* event in the past. If the clause is embedded under a matrix clause that contains a sentential negation, the proposition is assumed to NOT be true: [ *Mary did not say that* [ *John sold his car* ] ] "
   ]
  },
  {
   "cell_type": "markdown",
   "metadata": {},
   "source": [
    "It is possible with additional effort to translate the Dependency Trees into clauses and reconstruct the clause hierarchy into a relevant form or data structure. SpaCy does not offer a direct data output of such relations."
   ]
  },
  {
   "cell_type": "markdown",
   "metadata": {},
   "source": [
    "One problem still remains, and this is *clausal discontinuities*. None of the common NLP pipelines, and spaCy in particular, can deal with any kind of discontinuities in any reasonable way. Discontinuities can be observed when sytanctic structures are split over the clause or sentence, or elements ocur in a cannoically different position, as in the following example:"
   ]
  },
  {
   "cell_type": "markdown",
   "metadata": {},
   "source": [
    "*Which car did John claim that Mary took?*"
   ]
  },
  {
   "cell_type": "markdown",
   "metadata": {},
   "source": [
    "The embedded clause consists of the sequence [ *Mary took which car* ]. One part of the sequence appears dislocated and precedes the matrix clause in the above example. Simple Dependency Parsers cannot generate any reasonable output that makes it easy to identify and reconstruct the relations of clausal elements in these structures."
   ]
  },
  {
   "cell_type": "markdown",
   "metadata": {},
   "source": [
    "#### Constitutent Structure Trees"
   ]
  },
  {
   "cell_type": "markdown",
   "metadata": {},
   "source": [
    "Dependency Parse trees are a simplification of relations of elements in the clause. They ignore structural and hierarchical relations in a sentence or clause, as shown in the examples above. Instead the Dependency Parse trees show simple functional relations in the sense of sentential functions like *subject* or *object* of a verb."
   ]
  },
  {
   "cell_type": "markdown",
   "metadata": {},
   "source": [
    "SpaCy does not output any kind of constituent structure and more detailed relational properties of phrases and more complex structural units in a sentence or clause."
   ]
  },
  {
   "cell_type": "markdown",
   "metadata": {},
   "source": [
    "Since many semantic properties are defined or determined in terms of structural relations and hierarchies, that is *scope relations*, this is more complicated to reconstruct or map from the Dependency Parse trees."
   ]
  },
  {
   "cell_type": "markdown",
   "metadata": {},
   "source": [
    "#### Anaphora Resolution"
   ]
  },
  {
   "cell_type": "markdown",
   "metadata": {},
   "source": [
    "SpaCy does not offer any anaphora resolution annotation. That is, the referent of a pronoun, as in the following examples, is not annotated in the resulting linguistic data structure:"
   ]
  },
  {
   "cell_type": "markdown",
   "metadata": {},
   "source": [
    "- *John saw **him**.*\n",
    "- *John said that **he** saw the house.*\n",
    "- *Tim sold **his** house. **He** moved to Paris.*\n",
    "- *John saw **himself** in the mirror.*"
   ]
  },
  {
   "cell_type": "markdown",
   "metadata": {},
   "source": [
    "Knowing the restrictions of pronominal binding (in English for example), we can partially generate the potential or most likely anaphora - antecedent relations. This - however - is not part of the spaCy output."
   ]
  },
  {
   "cell_type": "markdown",
   "metadata": {},
   "source": [
    "One problem, however, is that spaCy does not provide parse trees of the *constituent structure* and *clausal hierarchies*, which is crucial for the correct analysis of pronominal anaphoric relations."
   ]
  },
  {
   "cell_type": "markdown",
   "metadata": {},
   "source": [
    "#### Coreference Analysis"
   ]
  },
  {
   "cell_type": "markdown",
   "metadata": {},
   "source": [
    "Some NLP pipelines are capable of providing coreference analyses for constituents in clauses. For example, the two clauses should be analyzed as talking about the same subject:"
   ]
  },
  {
   "cell_type": "markdown",
   "metadata": {},
   "source": [
    "*The CEO of Apple, Tim Cook, decided to apply for a job at Google. Cook said that he is not satisfied with the quality of the iPhones anymore. He prefers the Pixel 2.*"
   ]
  },
  {
   "cell_type": "markdown",
   "metadata": {},
   "source": [
    "The constituents [ *the CEO of Apple, Tim Cook* ] in the first sentence, [ *Cook* ] in the second sentence, and [ *he* ] in the third, should all be tagged as referencing the same entity, that is the one mentioned in the first sentence. SpaCy does not provide such a level of analysis or annotation."
   ]
  },
  {
   "cell_type": "markdown",
   "metadata": {},
   "source": [
    "#### Temporal Reference"
   ]
  },
  {
   "cell_type": "markdown",
   "metadata": {},
   "source": [
    "For various analysis levels it is essential to identify the time references in a sentence or utterance, for example the time the utterance is made or the time the described event happened."
   ]
  },
  {
   "cell_type": "markdown",
   "metadata": {},
   "source": [
    "Certain tenses are expressed as periphrastic constructions, including auxiliaries and main verbs. SpaCy does not provide the relevant information to identify these constructions and tenses."
   ]
  },
  {
   "cell_type": "markdown",
   "metadata": {},
   "source": [
    "## Using the Dependency Parse Visualizer"
   ]
  },
  {
   "cell_type": "markdown",
   "metadata": {},
   "source": [
    "More on Dependency Parse trees"
   ]
  },
  {
   "cell_type": "code",
   "execution_count": null,
   "metadata": {},
   "outputs": [],
   "source": [
    "import spacy"
   ]
  },
  {
   "cell_type": "markdown",
   "metadata": {},
   "source": [
    "We can load the visualizer:"
   ]
  },
  {
   "cell_type": "code",
   "execution_count": null,
   "metadata": {},
   "outputs": [],
   "source": [
    "from spacy import displacy"
   ]
  },
  {
   "cell_type": "markdown",
   "metadata": {},
   "source": [
    "Loading the English NLP pipeline:"
   ]
  },
  {
   "cell_type": "code",
   "execution_count": null,
   "metadata": {},
   "outputs": [],
   "source": [
    "nlp = spacy.load('en')"
   ]
  },
  {
   "cell_type": "markdown",
   "metadata": {},
   "source": [
    "Process an input sentence:"
   ]
  },
  {
   "cell_type": "code",
   "execution_count": null,
   "metadata": {},
   "outputs": [],
   "source": [
    "doc = nlp(u'John said yesterday that Mary bought a new car for her older son.')"
   ]
  },
  {
   "cell_type": "markdown",
   "metadata": {},
   "source": [
    "Visualizing the Dependency Parse tree can be achieved by running the following server code and opening up a new tab on the URL [http://localhost:5000/](http://localhost:5000/). You can shut down the server by clicking on the stop button at the top in the notebook toolbar."
   ]
  },
  {
   "cell_type": "code",
   "execution_count": null,
   "metadata": {},
   "outputs": [],
   "source": [
    "displacy.serve(doc, style='dep')"
   ]
  },
  {
   "cell_type": "markdown",
   "metadata": {},
   "source": [
    "Instead of serving the graph, one can render it directly into a Jupyter Notebook:"
   ]
  },
  {
   "cell_type": "code",
   "execution_count": null,
   "metadata": {},
   "outputs": [],
   "source": [
    "displacy.render(doc, style='dep', jupyter=True, options={'distance': 140})"
   ]
  },
  {
   "cell_type": "markdown",
   "metadata": {},
   "source": [
    "In addition to the visualization of the Dependency Trees, we can visualize named entity annotations:"
   ]
  },
  {
   "cell_type": "code",
   "execution_count": null,
   "metadata": {},
   "outputs": [],
   "source": [
    "text = \"\"\"Apple decided to fire Tim Cook and hire somebody called John Doe as the new CEO.\n",
    "They also discussed a merger with Google. On the long run it seems more likely that Apple\n",
    "will merge with Amazon and Microsoft with Google. The companies will all relocate to\n",
    "Austin in Texas before the end of the century.\"\"\"\n",
    "\n",
    "doc = nlp(text)\n",
    "displacy.render(doc, style='ent', jupyter=True)"
   ]
  },
  {
   "cell_type": "markdown",
   "metadata": {},
   "source": [
    "## Vectors"
   ]
  },
  {
   "cell_type": "markdown",
   "metadata": {},
   "source": [
    "To use vectors in spaCy, you might consider installing the larger models for the particular language. The common module and language packages only come with the small models. The larger models can be installed as described on the [spaCy vectors page](https://spacy.io/usage/vectors-similarity):\n",
    "\n",
    "    python -m spacy download en_core_web_lg\n",
    "\n",
    "The large model *en_core_web_lg* contains more than 1 million unique vectors."
   ]
  },
  {
   "cell_type": "markdown",
   "metadata": {},
   "source": [
    "Let us restart all necessary modules again, in particular spaCy:"
   ]
  },
  {
   "cell_type": "code",
   "execution_count": 1,
   "metadata": {},
   "outputs": [],
   "source": [
    "import spacy"
   ]
  },
  {
   "cell_type": "markdown",
   "metadata": {},
   "source": [
    "We can now import the English NLP pipeline to process some word list. Since the small models in spacy only include context-sensitive tensors, we should use the dowloaded large model for better word vectors. We load the large model as follows:"
   ]
  },
  {
   "cell_type": "code",
   "execution_count": 2,
   "metadata": {},
   "outputs": [],
   "source": [
    "# nlp = spacy.load('en_core_web_lg')\n",
    "nlp = spacy.load('en')"
   ]
  },
  {
   "cell_type": "markdown",
   "metadata": {},
   "source": [
    "We can process a list of words by the pipeline using the *nlp* object:"
   ]
  },
  {
   "cell_type": "code",
   "execution_count": 3,
   "metadata": {},
   "outputs": [],
   "source": [
    "tokens = nlp(u'dog cat banana')"
   ]
  },
  {
   "cell_type": "markdown",
   "metadata": {},
   "source": [
    "As described in the spaCy chapter *[Word Vectors and Semantic Similarity](https://spacy.io/usage/vectors-similarity)*, the resulting elements of *Doc*, *Span*, and *Token* provide a method *similarity()*, which returns the similarities between words: "
   ]
  },
  {
   "cell_type": "code",
   "execution_count": 4,
   "metadata": {},
   "outputs": [
    {
     "name": "stdout",
     "output_type": "stream",
     "text": [
      "dog dog -1.89788e-22\n",
      "dog cat -1.84321e-22\n",
      "dog banana 0.0\n",
      "cat dog -1.84321e-22\n",
      "cat cat 0.00330217\n",
      "cat banana -1.83955e-22\n",
      "banana dog 0.0\n",
      "banana cat -1.83955e-22\n",
      "banana banana 0.0\n"
     ]
    }
   ],
   "source": [
    "for token1 in tokens:\n",
    "    for token2 in tokens:\n",
    "        print(token1, token2, token1.similarity(token2))"
   ]
  },
  {
   "cell_type": "markdown",
   "metadata": {},
   "source": [
    "We can access the *vectors* of these objects using the *vector* attribute:"
   ]
  },
  {
   "cell_type": "code",
   "execution_count": 5,
   "metadata": {},
   "outputs": [
    {
     "name": "stdout",
     "output_type": "stream",
     "text": [
      "dog True 23.9202 True\n",
      "cat True 24.2285 True\n",
      "banana True 25.3545 True\n",
      "sasquatch True 26.2091 True\n"
     ]
    }
   ],
   "source": [
    "tokens = nlp(u'dog cat banana sasquatch')\n",
    "\n",
    "for token in tokens:\n",
    "    print(token.text, token.has_vector, token.vector_norm, token.is_oov)"
   ]
  },
  {
   "cell_type": "markdown",
   "metadata": {},
   "source": [
    "The attribute *has_vector* returns a boolean depending on whether the token has a vector in the model or not. The token *sasquatch* has no vector. It is also out-of-vocabulary (OOV), as the fourth column shows. Thus, it also has a norm of $0$, that is, it has a length of $0$."
   ]
  },
  {
   "cell_type": "markdown",
   "metadata": {},
   "source": [
    "Here the token vector has a length of $300$. We can print out the vector for a token:"
   ]
  },
  {
   "cell_type": "code",
   "execution_count": 6,
   "metadata": {},
   "outputs": [
    {
     "name": "stdout",
     "output_type": "stream",
     "text": [
      "dog 384 [  8.27200592e-01   2.36963654e+00  -6.35798216e-01   4.51421380e-01\n",
      "   2.03429312e-01   1.73726404e+00  -3.18652248e+00   8.14928293e-01\n",
      "   1.90902555e+00   2.81861448e+00   2.24422288e+00  -1.73021841e+00\n",
      "   1.79004085e+00   3.29741836e-02  -1.84130001e+00   8.92890990e-01\n",
      "  -2.34007502e+00  -6.58327520e-01  -2.56982756e+00   1.81837440e+00\n",
      "  -2.24639937e-01   1.19199443e+00  -1.03678775e+00   1.85581934e+00\n",
      "   9.48349237e-02  -1.62571692e+00  -5.23630559e-01   1.61878765e+00\n",
      "  -2.62793899e-01  -2.29376721e+00  -6.65397227e-01  -7.22711921e-01\n",
      "  -3.73787999e-01   1.11174285e-01  -8.51482898e-02  -1.27650309e+00\n",
      "   1.60682833e+00  -5.60199499e-01   2.31330538e+00  -1.79506016e+00\n",
      "  -1.91947532e+00  -2.31478286e+00   1.07934511e+00  -2.57284522e+00\n",
      "  -2.47225213e+00  -6.94101095e-01  -1.99404705e+00  -5.84194839e-01\n",
      "  -1.05474293e-01  -1.13228655e+00   3.32133460e+00  -1.98626018e+00\n",
      "  -2.27126408e+00   3.23185158e+00   3.57697427e-01  -2.88535762e+00\n",
      "   3.46697497e+00   3.08543849e+00   1.69311798e+00   6.86959147e-01\n",
      "  -8.70770216e-03   7.88554847e-01   4.69463050e-01   3.27023554e+00\n",
      "  -3.19191670e+00  -1.22353947e+00  -3.13184404e+00  -1.44323635e+00\n",
      "   5.12833071e+00   2.09720802e+00  -1.15142417e+00  -2.01891971e+00\n",
      "  -2.02433467e+00   1.37387133e+00  -2.25904393e+00   6.98948383e-01\n",
      "  -3.45357203e+00   8.38878751e-01  -9.06849205e-01   5.01224136e+00\n",
      "  -2.46539617e+00  -4.75015068e+00  -2.55216241e-01  -1.16558361e+00\n",
      "   1.21537852e+00   6.96649313e-01  -2.64911890e-01  -1.57365441e+00\n",
      "  -7.75560558e-01   1.59184784e-01  -1.97478127e+00   5.72311115e+00\n",
      "  -1.04499555e+00   2.78367281e+00  -2.77576327e+00   5.90611637e-01\n",
      "  -2.53874826e+00  -1.00345612e+00  -4.75459993e-01   2.93002009e-01\n",
      "  -1.78783584e+00   8.40277314e-01  -2.64874548e-01  -2.22559929e+00\n",
      "   7.17728853e-01   2.50333357e+00   5.79268694e-01  -2.08806372e+00\n",
      "  -8.20726991e-01   4.24403548e-02  -1.32488489e-01  -4.07865238e+00\n",
      "  -1.05328441e+00   2.31404734e+00   1.23619795e+00   4.23197985e+00\n",
      "   9.68020499e-01   5.01313686e+00   2.75291634e+00   4.56159502e-01\n",
      "  -4.08713102e-01   1.43276095e+00   3.23144734e-01   1.52091956e+00\n",
      "   2.90288687e-01  -7.89957225e-01   1.66499221e+00  -2.12638450e+00\n",
      "  -7.98130631e-02  -3.89738560e-01  -2.35878825e-02  -8.74555185e-02\n",
      "  -2.46094897e-01   5.38658321e-01   3.29445302e-01  -3.26884240e-02\n",
      "   6.67730629e-01   1.20416296e+00   6.86277628e-01   1.46121606e-01\n",
      "   1.93115294e-01  -4.06555653e-01  -5.42419612e-01   2.56459832e-01\n",
      "  -3.82755756e-01   1.09645462e+00   1.37204289e+00  -9.80866849e-02\n",
      "   9.19186026e-02  -2.11603522e-01   4.40820634e-01   5.58294773e-01\n",
      "  -1.97448716e-01  -5.96628070e-01   2.62966901e-01  -5.32624364e-01\n",
      "   3.47954959e-01   7.34310001e-02  -2.36523166e-01   1.25075430e-01\n",
      "  -3.01510513e-01   9.68411267e-02   2.22957194e-01  -5.92421412e-01\n",
      "   3.39703888e-01  -1.80009782e-01   2.12132454e-01  -1.49858966e-01\n",
      "  -3.76683116e-01   1.26572371e+00  -3.39105844e-01  -7.12203324e-01\n",
      "   1.98277891e-01   3.81588817e-01  -1.92670763e-01   2.16052473e-01\n",
      "   2.07061291e-01  -5.17681181e-01  -8.34657133e-01  -4.73374158e-01\n",
      "  -5.41146040e-01  -7.99376220e-02  -1.94415927e-01  -4.37415063e-01\n",
      "   1.08554554e+00  -4.17823732e-01   1.04889822e+00   4.20893192e-01\n",
      "   1.11028552e-03  -2.97780037e-02  -6.54897451e-01  -8.36882368e-02\n",
      "   3.27429563e-01  -2.84424275e-02  -6.00609705e-02  -3.35152149e-02\n",
      "   2.89587557e-01   5.37356853e-01  -4.13916335e-02  -4.12049107e-02\n",
      "  -7.10642695e-01  -1.98923185e-01  -3.98406163e-02   3.55616599e-01\n",
      "   3.81583363e-01   1.06807359e-01   2.93916613e-01   3.71418267e-01\n",
      "   1.32996291e-02   1.82372138e-01  -2.52965987e-01   5.71189940e-01\n",
      "  -5.09460270e-02   3.00350696e-01  -2.52297759e-01   2.57597864e-01\n",
      "  -9.37785953e-02  -3.28559786e-01   4.81325537e-01  -5.76627254e-01\n",
      "  -3.89352411e-01  -1.50122851e-01  -2.67110318e-01  -5.85993826e-01\n",
      "   1.28378630e-01  -1.81259677e-01  -9.87434536e-02  -6.41854286e-01\n",
      "  -3.48477721e-01  -4.56767112e-01   2.44289935e-02   7.53845990e-01\n",
      "   2.89254427e-01  -5.47284961e-01  -6.63643122e-01   1.03627011e-01\n",
      "  -3.02436620e-01   1.83912337e-01  -2.33762547e-01  -7.05996513e-01\n",
      "  -2.28717178e-02  -5.82007527e-01   8.50297868e-01  -1.08366525e+00\n",
      "   1.46153480e-01  -6.83580339e-02  -3.63923967e-01   4.13221985e-01\n",
      "   3.02115530e-01  -6.86111569e-01   2.07210094e-01  -2.24037051e-01\n",
      "   2.28939846e-01   4.85156655e-01   1.39915019e-01   1.09534234e-01\n",
      "  -4.99969542e-01  -3.90478149e-02   1.20926820e-01  -4.35628086e-01\n",
      "  -2.46861488e-01  -4.92394805e-01   1.57996848e-01  -2.61013508e-01\n",
      "  -4.11366343e-01   4.92623709e-02   5.19491553e-01  -2.57162377e-02\n",
      "  -2.32994817e-02  -2.84264952e-01  -3.96629095e-01   8.89276743e-01\n",
      "  -4.16647822e-01  -6.95781708e-01  -1.44266814e-01  -4.50714409e-01\n",
      "  -3.31009477e-02  -1.62504181e-01   7.33935058e-01  -7.89064348e-01\n",
      "  -9.05397475e-01  -1.63614899e-02  -3.23807925e-01   7.22003341e-01\n",
      "   5.05698204e-01   4.35230553e-01  -1.62770286e-01  -4.11142290e-01\n",
      "  -1.04695484e-01   1.94984227e-01  -1.38162941e-01  -1.24378622e-01\n",
      "  -3.60506177e-02   1.24236023e+00  -6.44291565e-02  -6.25225842e-01\n",
      "   3.48200381e-01  -3.14976573e-01  -1.42186403e-01  -7.13658452e-01\n",
      "   1.19100221e-01  -4.79408562e-01  -3.11908036e-01  -7.30597317e-01\n",
      "   6.31558716e-01  -1.90374136e-01   6.12363219e-04  -4.54252154e-01\n",
      "   5.78279316e-01   7.82649100e-01  -6.94978833e-01   5.27717471e-01\n",
      "  -7.52819300e-01   2.11533710e-01   1.21591091e+00   1.54507831e-01\n",
      "   2.51218826e-01   1.09018600e+00  -5.27395546e-01   4.28521216e-01\n",
      "   6.58495009e-01   9.36106861e-01  -2.10810021e-01   3.56885672e-01\n",
      "  -1.25559181e-01   7.94975087e-03  -6.62281513e-01  -1.10124238e-03\n",
      "   8.11132342e-02  -2.51154780e-01   9.73601699e-01   1.59540698e-01\n",
      "   6.89093769e-03   6.55957103e-01  -1.98863149e-01   5.42057395e-01\n",
      "  -3.21460903e-01   7.43601173e-02  -1.73077106e-01  -1.23402879e-01\n",
      "  -2.86473185e-01   3.84208933e-02   6.84874952e-02   5.78832626e-03\n",
      "  -1.38569877e-01   2.25923002e-01  -1.95183545e-01   5.73984742e-01\n",
      "   5.97869873e-01  -3.88437301e-01  -2.17346564e-01   2.20151395e-01\n",
      "  -3.53521883e-01  -3.70413065e-02  -7.69324154e-02  -8.02676797e-01\n",
      "  -4.01631624e-01   2.75890201e-01  -8.62186372e-01  -7.68790960e-01\n",
      "   6.61593974e-02   4.12950575e-01   9.71895307e-02   1.62017792e-01\n",
      "  -8.88495445e-01   9.61809397e-01  -3.20118785e-01   7.44656086e-01\n",
      "   2.94522941e-01   7.65041411e-02  -7.67438173e-01   2.87442714e-01\n",
      "   6.36601076e-02  -7.06121266e-01   2.70693004e-03   1.16398573e+00\n",
      "  -5.01691341e-01   9.78848413e-02   7.38977790e-01  -1.37028366e-01\n",
      "  -4.56177622e-01  -3.05478573e-01   2.47685492e-01  -2.43861929e-01]\n"
     ]
    }
   ],
   "source": [
    "n = 0\n",
    "print(tokens[n].text, len(tokens[n].vector), tokens[n].vector)"
   ]
  },
  {
   "cell_type": "markdown",
   "metadata": {},
   "source": [
    "Here just another example of similarities for some famous words:"
   ]
  },
  {
   "cell_type": "code",
   "execution_count": 7,
   "metadata": {},
   "outputs": [
    {
     "name": "stdout",
     "output_type": "stream",
     "text": [
      "queen queen 0.00341406\n",
      "queen king 6.23009e+16\n",
      "queen chef -0.00326477\n",
      "king queen 6.23009e+16\n",
      "king king 0.0\n",
      "king chef 0.00322965\n",
      "chef queen -0.00326477\n",
      "chef king 0.00322965\n",
      "chef chef 0.00312201\n"
     ]
    }
   ],
   "source": [
    "tokens = nlp(u'queen king chef')\n",
    "\n",
    "for token1 in tokens:\n",
    "    for token2 in tokens:\n",
    "        print(token1, token2, token1.similarity(token2))"
   ]
  },
  {
   "cell_type": "markdown",
   "metadata": {},
   "source": [
    "### Similarities in Context"
   ]
  },
  {
   "cell_type": "markdown",
   "metadata": {},
   "source": [
    "In spaCy parsing, tagging and NER models make use of vector representations of contexts that represent the *meaning of words*. A text *meaning representation* is represented as an array of floats, i.e. a tensor, computed during the NLP pipeline processing. With this approach words that have not been seen before can be typed or classified. SpaCy uses a 4-layer convolutional network for the computation of these tensors. In this approach these tensors model a context of four words left and right of any given word."
   ]
  },
  {
   "cell_type": "markdown",
   "metadata": {},
   "source": [
    "Let us use the example from the spaCy documentation and check the word *labrador*:"
   ]
  },
  {
   "cell_type": "code",
   "execution_count": 8,
   "metadata": {},
   "outputs": [
    {
     "name": "stdout",
     "output_type": "stream",
     "text": [
      "labrador True 23.0635 True\n"
     ]
    }
   ],
   "source": [
    "import spacy\n",
    "nlp = spacy.load('en')\n",
    "\n",
    "tokens = nlp(u'labrador')\n",
    "\n",
    "for token in tokens:\n",
    "    print(token.text, token.has_vector, token.vector_norm, token.is_oov)"
   ]
  },
  {
   "cell_type": "markdown",
   "metadata": {},
   "source": [
    "We can now test for the context:"
   ]
  },
  {
   "cell_type": "code",
   "execution_count": 9,
   "metadata": {},
   "outputs": [
    {
     "name": "stdout",
     "output_type": "stream",
     "text": [
      "1: 6.34167995391e+16\n",
      "2: 6.33305619273e+16\n",
      "3: 0.00345767822817\n"
     ]
    }
   ],
   "source": [
    "doc1 = nlp(u\"The labrador barked.\")\n",
    "doc2 = nlp(u\"The labrador swam.\")\n",
    "doc3 = nlp(u\"the labrador people live in canada.\")\n",
    "\n",
    "count = 0\n",
    "for doc in [doc1, doc2, doc3]:\n",
    "    lab = doc[1]\n",
    "    dog = nlp(u\"dog\")\n",
    "    count += 1\n",
    "    print(str(count) + \":\", lab.similarity(dog))"
   ]
  },
  {
   "cell_type": "markdown",
   "metadata": {},
   "source": [
    "Using this strategy we can compute document or text similarities as well:"
   ]
  },
  {
   "cell_type": "code",
   "execution_count": 11,
   "metadata": {},
   "outputs": [
    {
     "name": "stdout",
     "output_type": "stream",
     "text": [
      "0 0 -0.0202081904657\n",
      "0 1 0.0\n",
      "0 2 8.90667153494e-22\n",
      "1 0 0.0\n",
      "1 1 8.91641486546e-22\n",
      "1 2 0.0\n",
      "2 0 8.90667153494e-22\n",
      "2 1 0.0\n",
      "2 2 -2.46412431324e+17\n"
     ]
    }
   ],
   "source": [
    "docs = ( nlp(u\"Paris is the largest city in France.\"),\n",
    "        nlp(u\"Vilnius is the capital of Lithuania.\"),\n",
    "        nlp(u\"An emu is a large bird.\") )\n",
    "\n",
    "for x in range(len(docs)):\n",
    "    for y in range(len(docs)):\n",
    "        print(x, y, docs[x].similarity(docs[y]))"
   ]
  },
  {
   "cell_type": "markdown",
   "metadata": {},
   "source": [
    "We can vary the word order in sentences and compare them:"
   ]
  },
  {
   "cell_type": "code",
   "execution_count": 12,
   "metadata": {},
   "outputs": [
    {
     "name": "stdout",
     "output_type": "stream",
     "text": [
      "\"dog bites man\" \"dog bites man\" -1.06336632857e+17\n",
      "\"dog bites man\" \"man bites dog\" 0.0\n",
      "\"dog bites man\" \"man dog bites\" 1.13932820909e+17\n",
      "\"dog bites man\" \"dog man bites\" 0.00583048011099\n",
      "\"man bites dog\" \"dog bites man\" 0.0\n",
      "\"man bites dog\" \"man bites dog\" 0.0\n",
      "\"man bites dog\" \"man dog bites\" -1.2197092105e+17\n",
      "\"man bites dog\" \"dog man bites\" 1.15141396808e+17\n",
      "\"man dog bites\" \"dog bites man\" 1.13932820909e+17\n",
      "\"man dog bites\" \"man bites dog\" -1.2197092105e+17\n",
      "\"man dog bites\" \"man dog bites\" 0.0\n",
      "\"man dog bites\" \"dog man bites\" -0.00624698214012\n",
      "\"dog man bites\" \"dog bites man\" 0.00583048011099\n",
      "\"dog man bites\" \"man bites dog\" 1.15141396808e+17\n",
      "\"dog man bites\" \"man dog bites\" -0.00624698214012\n",
      "\"dog man bites\" \"dog man bites\" 3.196875565e-22\n"
     ]
    }
   ],
   "source": [
    "docs = [nlp(u\"dog bites man\"), nlp(u\"man bites dog\"),\n",
    "        nlp(u\"man dog bites\"), nlp(u\"dog man bites\")]\n",
    "\n",
    "for doc in docs:\n",
    "    for other_doc in docs:\n",
    "        print('\"' + doc.text + '\"', '\"' + other_doc.text + '\"', doc.similarity(other_doc))"
   ]
  },
  {
   "cell_type": "markdown",
   "metadata": {},
   "source": [
    "### Custom Models"
   ]
  },
  {
   "cell_type": "markdown",
   "metadata": {},
   "source": [
    "#### Optimization"
   ]
  },
  {
   "cell_type": "code",
   "execution_count": null,
   "metadata": {},
   "outputs": [],
   "source": [
    "nlp = spacy.load('en_core_web_lg')"
   ]
  },
  {
   "cell_type": "code",
   "execution_count": null,
   "metadata": {},
   "outputs": [],
   "source": []
  }
 ],
 "metadata": {
  "kernelspec": {
   "display_name": "Python 3",
   "language": "python",
   "name": "python3"
  },
  "language_info": {
   "codemirror_mode": {
    "name": "ipython",
    "version": 3
   },
   "file_extension": ".py",
   "mimetype": "text/x-python",
   "name": "python",
   "nbconvert_exporter": "python",
   "pygments_lexer": "ipython3",
   "version": "3.6.4"
  }
 },
 "nbformat": 4,
 "nbformat_minor": 2
}
